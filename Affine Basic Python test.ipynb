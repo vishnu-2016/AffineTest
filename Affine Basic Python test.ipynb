{
 "cells": [
  {
   "cell_type": "markdown",
   "metadata": {},
   "source": [
    "# Basic Python and Pandas"
   ]
  },
  {
   "cell_type": "markdown",
   "metadata": {},
   "source": [
    "## Instructions\n",
    "\n",
    "Once you are completed with the answers , go to File option and click download as IPython Notebook .Keep the file name as your name for identification and drop a mail to ..@affineanalytics.com\n"
   ]
  },
  {
   "cell_type": "markdown",
   "metadata": {},
   "source": [
    "```bash\n",
    "1.Given a list of strings , say for example : ['India','Affine','Hello','Good Morning','i','an'] , return \n",
    "count of strings where the length of each string is greater than 2\n",
    "```"
   ]
  },
  {
   "cell_type": "code",
   "execution_count": 1,
   "metadata": {
    "collapsed": true
   },
   "outputs": [],
   "source": [
    "\n",
    "def match_ends(words):\n",
    "  # +++your code here+++\n",
    "  return"
   ]
  },
  {
   "cell_type": "markdown",
   "metadata": {},
   "source": [
    "```bash\n",
    "2.Given a list of non-empty tuples, return a list sorted in increasing order by the first element\n",
    "example : [(1, 7), (3, 2), (2, 6), (1, 3)]\n",
    "```"
   ]
  },
  {
   "cell_type": "code",
   "execution_count": 2,
   "metadata": {
    "collapsed": true
   },
   "outputs": [],
   "source": [
    "\n",
    "def sort_last(tuples):\n",
    "  # +++your code here+++\n",
    "  return"
   ]
  },
  {
   "cell_type": "markdown",
   "metadata": {},
   "source": [
    "```bash\n",
    "\n",
    "3.Create a Pandas Series of random numbers of size 100. \n",
    "4.Write a function which identifies if a number is even or not.\n",
    "5.Find the sum of all even numbers and odd numbers.\n",
    "\n",
    "```"
   ]
  },
  {
   "cell_type": "code",
   "execution_count": 63,
   "metadata": {
    "collapsed": false
   },
   "outputs": [],
   "source": [
    "import pandas as pd "
   ]
  },
  {
   "cell_type": "code",
   "execution_count": 64,
   "metadata": {
    "collapsed": false
   },
   "outputs": [],
   "source": [
    "tips = pd.read_csv(\"../data/tips.csv\")"
   ]
  },
  {
   "cell_type": "markdown",
   "metadata": {},
   "source": [
    "```bash\n",
    "Using the tips dataframe find the below answers.\n",
    "6. Total number of smokers and non smokers.\n",
    "7. Add a new column to the tips dataframe which stores the percent of tip paid. \n",
    "8. Find who payed most tip among Gender , Time(Dinner/Lunch) , Sex \n",
    "9. Find any outliers in tip column.\n",
    "10. Find any interesting insights from the data.\n",
    "\n",
    "```"
   ]
  },
  {
   "cell_type": "code",
   "execution_count": null,
   "metadata": {
    "collapsed": true
   },
   "outputs": [],
   "source": []
  }
 ],
 "metadata": {
  "kernelspec": {
   "display_name": "Python 2",
   "language": "python",
   "name": "python2"
  },
  "language_info": {
   "codemirror_mode": {
    "name": "ipython",
    "version": 2
   },
   "file_extension": ".py",
   "mimetype": "text/x-python",
   "name": "python",
   "nbconvert_exporter": "python",
   "pygments_lexer": "ipython2",
   "version": "2.7.11"
  }
 },
 "nbformat": 4,
 "nbformat_minor": 0
}
